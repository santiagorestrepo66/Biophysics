{
 "cells": [
  {
   "cell_type": "markdown",
   "metadata": {},
   "source": [
    "------------\n",
    "INSTRUCTIONS\n",
    "-------------\n",
    "\n",
    "This algorithm was specifically created to generate color bars for flexibility profiles, in which ridig corresponds to 0 and flexible to 1. To change the color of the color bar simply change the \"cmap = mpl.cm.x\" part of the code."
   ]
  },
  {
   "cell_type": "code",
   "execution_count": null,
   "metadata": {},
   "outputs": [],
   "source": [
    "# LIBRARIES\n",
    "\n",
    "print('\\033[37m' + 'Importing libraries...'  + '\\033[0m')\n",
    "import matplotlib.pyplot as plt\n",
    "import matplotlib as mpl\n",
    "import pylab\n",
    "\n",
    "# Colormaps\n",
    "print('\\033[37m' + 'Defining colormaps...'  + '\\033[0m')\n",
    "cmaps = ['viridis', 'plasma', 'inferno', 'magma',\n",
    "         'Greys', 'Purples', 'Blues', 'Greens', 'Oranges', 'Reds', 'YlOrBr', 'YlOrRd', 'OrRd', 'PuRd', 'RdPu', 'BuPu', 'GnBu', 'PuBu', 'YlGnBu', 'PuBuGn', 'BuGn', 'YlGn',\n",
    "         'binary', 'gist_yarg', 'gist_gray', 'gray', 'bone', 'pink', 'spring', 'summer', 'autumn', 'winter', 'cool', 'Wistia', 'hot', 'afmhot', 'gist_heat', 'copper',\n",
    "         'PiYG', 'PRGn', 'BrBG', 'PuOr', 'RdGy', 'RdBu', 'RdYlBu', 'RdYlGn', 'Spectral', 'coolwarm', 'bwr', 'seismic',\n",
    "         'Pastel1', 'Pastel2', 'Paired', 'Accent', 'Dark2', 'Set1', 'Set2', 'Set3', 'tab10', 'tab20', 'tab20b', 'tab20c',\n",
    "         'flag', 'prism', 'ocean', 'gist_earth', 'terrain', 'gist_stern', 'gnuplot', 'gnuplot2', 'CMRmap', 'cubehelix', 'brg', 'hsv', 'gist_rainbow', 'rainbow', 'jet', 'nipy_spectral', 'gist_ncar',\n",
    "         'viridis_r', 'plasma_r', 'inferno_r', 'magma_r',\n",
    "         'Greys_r', 'Purples_r', 'Blues_r', 'Greens_r', 'Oranges_r', 'Reds_r', 'YlOrBr_r', 'YlOrRd_r', 'OrRd_r', 'PuRd_r', 'RdPu_r', 'BuPu_r', 'GnBu_r', 'PuBu_r', 'YlGnBu_r', 'PuBuGn_r', 'BuGn_r', 'YlGn_r',\n",
    "         'binary_r', 'gist_yarg_r', 'gist_gray_r', 'gray_r', 'bone_r', 'pink_r', 'spring_r', 'summer_r', 'autumn_r', 'winter_r', 'cool_r', 'Wistia_r', 'hot_r', 'afmhot_r', 'gist_heat_r', 'copper_r',\n",
    "         'PiYG_r', 'PRGn_r', 'BrBG_r', 'PuOr_r', 'RdGy_r', 'RdBu_r', 'RdYlBu_r', 'RdYlGn_r', 'Spectral_r', 'coolwarm_r', 'bwr_r', 'seismic_r',\n",
    "         'Pastel1_r', 'Pastel2_r', 'Paired_r', 'Accent_r', 'Dark2_r', 'Set1_r', 'Set2_r', 'Set3_r', 'tab10_r', 'tab20_r', 'tab20b_r', 'tab20c_r',\n",
    "         'flag_r', 'prism_r', 'ocean_r', 'gist_earth_r', 'terrain_r', 'gist_stern_r', 'gnuplot_r', 'gnuplot2_r', 'CMRmap_r', 'cubehelix_r', 'brg_r', 'hsv_r', 'gist_rainbow_r', 'rainbow_r', 'jet_r', 'nipy_spectral_r', 'gist_ncar_r']\n",
    "\n",
    "print('\\033[1m' + 'Done' + '\\033[0m')"
   ]
  },
  {
   "cell_type": "code",
   "execution_count": null,
   "metadata": {},
   "outputs": [],
   "source": [
    "# GENERATE COLOR BAR\n",
    "\n",
    "comap = 0\n",
    "while comap == 0:\n",
    "    comap = input('\\033[1m' + 'Color map: ' + '\\033[0')\n",
    "    if comap not in cmaps:\n",
    "        comap = 0\n",
    "        print('Colormap inexistent')\n",
    "    elif comap in {'yes', 'no'}:\n",
    "        comap = str(comap)\n",
    "\n",
    "print('\\033[37m' + 'Graphing color bar...'  + '\\033[0m')\n",
    "fig = plt.figure(figsize = (9,4))\n",
    "ax = fig.add_axes([0.05, 0.80, 0.9, 0.15])\n",
    "cb = mpl.colorbar.ColorbarBase(ax, getattr(mpl.cm, comap), norm = mpl.colors.Normalize(vmin = 0, vmax = 1), orientation = 'horizontal')\n",
    "\n",
    "print('\\033[1m' + 'Done' + '\\033[0m')"
   ]
  },
  {
   "cell_type": "code",
   "execution_count": null,
   "metadata": {},
   "outputs": [],
   "source": [
    "# SAVE COLOR BAR FIGURE\n",
    "\n",
    "print('\\033[37m' + 'Saving color bar figure...'  + '\\033[0m')\n",
    "fig.savefig('colorbar_' + comap)\n",
    "\n",
    "print('\\033[1m' + 'Done' + '\\033[0m')"
   ]
  },
  {
   "cell_type": "code",
   "execution_count": null,
   "metadata": {},
   "outputs": [],
   "source": []
  }
 ],
 "metadata": {
  "celltoolbar": "Tags",
  "kernelspec": {
   "display_name": "Python 3",
   "language": "python",
   "name": "python3"
  },
  "language_info": {
   "codemirror_mode": {
    "name": "ipython",
    "version": 3
   },
   "file_extension": ".py",
   "mimetype": "text/x-python",
   "name": "python",
   "nbconvert_exporter": "python",
   "pygments_lexer": "ipython3",
   "version": "3.6.4"
  }
 },
 "nbformat": 4,
 "nbformat_minor": 2
}
