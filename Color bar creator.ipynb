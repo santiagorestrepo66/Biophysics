{
 "cells": [
  {
   "cell_type": "markdown",
   "metadata": {},
   "source": [
    "------------\n",
    "INSTRUCTIONS\n",
    "-------------\n",
    "\n",
    "This algorithm was specifically created to generate color bars for flexibility profiles, in which ridig corresponds to 0 and flexible to 1. To change the color of the color bar simply change the \"cmap = mpl.cm.x\" part of the code."
   ]
  },
  {
   "cell_type": "code",
   "execution_count": null,
   "metadata": {},
   "outputs": [],
   "source": [
    "# LIBRARIES\n",
    "\n",
    "import matplotlib.pyplot as plt\n",
    "import matplotlib as mpl\n",
    "import pylab"
   ]
  },
  {
   "cell_type": "code",
   "execution_count": null,
   "metadata": {},
   "outputs": [],
   "source": [
    "# GENERATE COLOR BAR\n",
    "\n",
    "fig = plt.figure(figsize = (9,4))\n",
    "ax = fig.add_axes([0.05, 0.80, 0.9, 0.15])\n",
    "cb = mpl.colorbar.ColorbarBase(ax, cmap = mpl.cm.cool, norm = mpl.colors.Normalize(vmin = 0, vmax = 1), orientation = 'horizontal')"
   ]
  },
  {
   "cell_type": "code",
   "execution_count": null,
   "metadata": {},
   "outputs": [],
   "source": [
    "# SAVE COLOR BAR FIGURE\n",
    "\n",
    "fig.savefig('colorbar')"
   ]
  },
  {
   "cell_type": "code",
   "execution_count": null,
   "metadata": {},
   "outputs": [],
   "source": []
  }
 ],
 "metadata": {
  "celltoolbar": "Tags",
  "kernelspec": {
   "display_name": "Python 3",
   "language": "python",
   "name": "python3"
  },
  "language_info": {
   "codemirror_mode": {
    "name": "ipython",
    "version": 3
   },
   "file_extension": ".py",
   "mimetype": "text/x-python",
   "name": "python",
   "nbconvert_exporter": "python",
   "pygments_lexer": "ipython3",
   "version": "3.6.4"
  }
 },
 "nbformat": 4,
 "nbformat_minor": 2
}
